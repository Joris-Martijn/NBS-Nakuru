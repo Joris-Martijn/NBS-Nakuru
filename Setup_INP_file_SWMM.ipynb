{
 "cells": [
  {
   "cell_type": "code",
   "execution_count": 2,
   "id": "beda25bd",
   "metadata": {},
   "outputs": [
    {
     "name": "stdout",
     "output_type": "stream",
     "text": [
      "✅ Junction layer updated and saved to: C:\\Users\\jmsch\\OneDrive\\Documenten\\Studie\\Civiele Techniek\\Environmental Engineering\\Year 2\\Afstuderen\\NBS Nakuru Kenia\\2. QGIS + Wflow\\SWMM\\SWD network\\updated_junctions_SWMM.gpkg\n"
     ]
    }
   ],
   "source": [
    "import geopandas as gpd\n",
    "import rasterio\n",
    "from rasterio.sample import sample_gen\n",
    "import numpy as np\n",
    "\n",
    "# === File paths ===\n",
    "junctions_fp = r\"C:\\Users\\jmsch\\OneDrive\\Documenten\\Studie\\Civiele Techniek\\Environmental Engineering\\Year 2\\Afstuderen\\NBS Nakuru Kenia\\2. QGIS + Wflow\\SWMM\\SWD network\\updated_junctions_SWMM.gpkg\"       # Your input point file\n",
    "junctions_layer = \"updated_junctions_SWMM\"   # Layer name in GPKG\n",
    "dem_fp = r\"C:\\Users\\jmsch\\OneDrive\\Documenten\\Studie\\Civiele Techniek\\Environmental Engineering\\Year 2\\Afstuderen\\NBS Nakuru Kenia\\2. QGIS + Wflow\\DATA\\2023-03-07 LIDAR DEM\\Block 2\\6m_DEM_TIFF_NAKURU_TOWN\\DEM_MERGED_COMPLETE_WGS84.tif\"                    # Your DEM raster file\n",
    "output_fp = r\"C:\\Users\\jmsch\\OneDrive\\Documenten\\Studie\\Civiele Techniek\\Environmental Engineering\\Year 2\\Afstuderen\\NBS Nakuru Kenia\\2. QGIS + Wflow\\SWMM\\SWD network\\updated_junctions_SWMM.gpkg\"  # Output file\n",
    "\n",
    "# === Load junction points ===\n",
    "gdf = gpd.read_file(junctions_fp)\n",
    "\n",
    "# Ensure CRS matches between DEM and vector\n",
    "with rasterio.open(dem_fp) as dem:\n",
    "    if gdf.crs != dem.crs:\n",
    "        gdf = gdf.to_crs(dem.crs)\n",
    "    \n",
    "    # Sample DEM at each point\n",
    "    coords = [(x,y) for x, y in zip(gdf.geometry.x, gdf.geometry.y)]\n",
    "    elevations = list(dem.sample(coords))\n",
    "    elevations = [float(val[0]) if val[0] != dem.nodata else np.nan for val in elevations]\n",
    "\n",
    "# === Add or update fields ===\n",
    "gdf[\"Elevation\"] = elevations\n",
    "gdf[\"MaxDepth\"] = 1.0\n",
    "gdf[\"InitDepth\"] = 0.0\n",
    "gdf[\"SurDepth\"] = 0.0\n",
    "gdf[\"Aponded\"] = 10.0\n",
    "gdf[\"Name\"] = gdf.index.map(lambda i: f\"J_{i}\")\n",
    "gdf[\"Annotation\"] = \"\"\n",
    "\n",
    "# === Save updated file ===\n",
    "gdf.to_file(output_fp, layer=\"updated_junctions\", driver=\"GPKG\")\n",
    "\n",
    "print(\"✅ Junction layer updated and saved to:\", output_fp)\n"
   ]
  },
  {
   "cell_type": "code",
   "execution_count": 5,
   "id": "81cf99d7",
   "metadata": {},
   "outputs": [
    {
     "name": "stdout",
     "output_type": "stream",
     "text": [
      "✅ Conduits saved to: C:\\Users\\jmsch\\OneDrive\\Documenten\\Studie\\Civiele Techniek\\Environmental Engineering\\Year 2\\Afstuderen\\NBS Nakuru Kenia\\2. QGIS + Wflow\\SWMM\\SWD network\\updated_conduits_SWMM_new.gpkg\n"
     ]
    }
   ],
   "source": [
    "import geopandas as gpd\n",
    "from shapely.geometry import LineString, Point\n",
    "from sklearn.neighbors import NearestNeighbors\n",
    "import numpy as np\n",
    "\n",
    "# === File paths ===\n",
    "conduits = gpd.read_file(r\"C:\\Users\\jmsch\\OneDrive\\Documenten\\Studie\\Civiele Techniek\\Environmental Engineering\\Year 2\\Afstuderen\\NBS Nakuru Kenia\\2. QGIS + Wflow\\SWMM\\SWD network\\updated_conduits_SWMM.gpkg\")\n",
    "junctions = gpd.read_file(r\"C:\\Users\\jmsch\\OneDrive\\Documenten\\Studie\\Civiele Techniek\\Environmental Engineering\\Year 2\\Afstuderen\\NBS Nakuru Kenia\\2. QGIS + Wflow\\SWMM\\SWD network\\updated_junctions_SWMM.gpkg\")\n",
    "#junctions_layer = \"updated_junctions\"\n",
    "output_fp = r\"C:\\Users\\jmsch\\OneDrive\\Documenten\\Studie\\Civiele Techniek\\Environmental Engineering\\Year 2\\Afstuderen\\NBS Nakuru Kenia\\2. QGIS + Wflow\\SWMM\\SWD network\\updated_conduits_SWMM_new.gpkg\"\n",
    "\n",
    "# Ensure both are in a projected CRS\n",
    "if conduits.crs.is_geographic:\n",
    "    conduits = conduits.to_crs(epsg=32736)  # Replace with your UTM zone\n",
    "if junctions.crs != conduits.crs:\n",
    "    junctions = junctions.to_crs(conduits.crs)\n",
    "\n",
    "import geopandas as gpd\n",
    "import numpy as np\n",
    "from scipy.spatial import cKDTree\n",
    "\n",
    "# === Prepare junction lookup ===\n",
    "junctions[\"coords\"] = junctions.geometry.apply(lambda geom: (geom.x, geom.y))\n",
    "junction_tree = cKDTree(junctions[\"coords\"].tolist())\n",
    "junction_coords = np.array(junctions[\"coords\"].tolist())\n",
    "junction_names = junctions[\"Name\"].values\n",
    "junction_elevs = junctions[\"Elevation\"].values\n",
    "\n",
    "# === Determine flow direction for each conduit ===\n",
    "from_nodes = []\n",
    "to_nodes = []\n",
    "\n",
    "for line in conduits.geometry:\n",
    "    start_xy = (line.coords[0][0], line.coords[0][1])\n",
    "    end_xy = (line.coords[-1][0], line.coords[-1][1])\n",
    "\n",
    "    _, start_idx = junction_tree.query(start_xy)\n",
    "    _, end_idx = junction_tree.query(end_xy)\n",
    "\n",
    "    elev_start = junction_elevs[start_idx]\n",
    "    elev_end = junction_elevs[end_idx]\n",
    "\n",
    "    name_start = junction_names[start_idx]\n",
    "    name_end = junction_names[end_idx]\n",
    "\n",
    "    if elev_start >= elev_end:\n",
    "        from_nodes.append(name_start)\n",
    "        to_nodes.append(name_end)\n",
    "    else:\n",
    "        from_nodes.append(name_end)\n",
    "        to_nodes.append(name_start)\n",
    "\n",
    "# === Assign new FID and Name to conduits ===\n",
    "conduits[\"fid\"] = range(len(conduits))\n",
    "conduits[\"Name\"] = conduits[\"fid\"].apply(lambda x: f\"C_{x}\")\n",
    "\n",
    "# === Assign FromNode and ToNode ===\n",
    "conduits[\"FromNode\"] = from_nodes\n",
    "conduits[\"ToNode\"] = to_nodes\n",
    "\n",
    "# Retain all other columns, keeping the original structure\n",
    "keep_cols = ['fid', 'Name', 'Annotation']\n",
    "for col in keep_cols:\n",
    "    if col not in conduits.columns:\n",
    "        conduits[col] = np.nan  # Fill if missing\n",
    "\n",
    "# Reorder (optional)\n",
    "cols = keep_cols + [c for c in conduits.columns if c not in keep_cols]\n",
    "conduits = conduits[cols]\n",
    "\n",
    "\n",
    "# === Save output ===\n",
    "conduits.to_file(output_fp, layer=\"updated_conduits\", driver=\"GPKG\")\n",
    "print(f\"✅ Conduits saved to: {output_fp}\")\n"
   ]
  },
  {
   "cell_type": "code",
   "execution_count": null,
   "id": "47a85da6",
   "metadata": {},
   "outputs": [],
   "source": []
  }
 ],
 "metadata": {
  "kernelspec": {
   "display_name": "base",
   "language": "python",
   "name": "python3"
  },
  "language_info": {
   "codemirror_mode": {
    "name": "ipython",
    "version": 3
   },
   "file_extension": ".py",
   "mimetype": "text/x-python",
   "name": "python",
   "nbconvert_exporter": "python",
   "pygments_lexer": "ipython3",
   "version": "3.12.7"
  }
 },
 "nbformat": 4,
 "nbformat_minor": 5
}
