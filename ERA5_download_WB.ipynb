{
 "cells": [
  {
   "cell_type": "code",
   "execution_count": 1,
   "metadata": {},
   "outputs": [],
   "source": [
    "# # -*- coding: utf-8 -*-\n",
    "# \"\"\"\n",
    "# Created on Wed Sep 7 13:15:30 2022\n",
    "\n",
    "# @author: HOUJ2, WITD5\n",
    "# \"\"\"\n",
    "\n",
    "# #%% Import modules\n",
    "\n",
    "# # Import builtin modules\n",
    "\n",
    "\n",
    "# # Import required modules\n",
    "\n",
    "\n",
    "\n",
    "# # Import custum modules\n",
    "# import setup_wflow as swf\n",
    "# import cdsapi\n",
    "# import netrc\n",
    "# import netCDF4\n"
   ]
  },
  {
   "cell_type": "code",
   "execution_count": 2,
   "metadata": {},
   "outputs": [],
   "source": [
    "##%% Usage example\n",
    "#nc_file = r'C:\\Users\\jmsch\\OneDrive\\Documenten\\Studie\\Civiele Techniek\\Environmental Engineering\\Year 2\\Afstuderen\\NBS Nakuru Kenia\\5. Python\\2025-04-04 ERA5\\ERA5_Nakuru_2007.nc'\n",
    "#ROI_shape = r'C:\\Users\\jmsch\\OneDrive\\Documenten\\Studie\\Civiele Techniek\\Environmental Engineering\\Year 2\\Afstuderen\\NBS Nakuru Kenia\\2. QGIS + Wflow\\Wflow - WitteveenBos\\wflow_JMS\\HydroMT\\ROI\\ROI_v2.gpkg'\n",
    "#years = ['2007']\n",
    "\n",
    "#swf.download_era5(nc_file, ROI_shape, years)"
   ]
  },
  {
   "cell_type": "code",
   "execution_count": 3,
   "metadata": {},
   "outputs": [],
   "source": [
    "#import xarray as xr\n",
    "\n",
    "#nc_file = r'C:\\Users\\jmsch\\OneDrive\\Documenten\\Studie\\Civiele Techniek\\Environmental Engineering\\Year 2\\Afstuderen\\NBS Nakuru Kenia\\5. Python\\2025-04-04 ERA5\\ERA5_Nakuru_2007.nc'\n",
    "\n",
    "#ERA5_2007 = xr.open_dataset(nc_file, engine='netcdf4')"
   ]
  },
  {
   "cell_type": "code",
   "execution_count": 5,
   "metadata": {},
   "outputs": [
    {
     "name": "stderr",
     "output_type": "stream",
     "text": [
      "2025-04-12 22:41:37,983 INFO [2024-09-26T00:00:00] Watch our [Forum](https://forum.ecmwf.int/) for Announcements, news and other discussed topics.\n",
      "2025-04-12 22:41:37,985 WARNING [2024-06-16T00:00:00] CDS API syntax is changed and some keys or parameter names may have also changed. To avoid requests failing, please use the \"Show API request code\" tool on the dataset Download Form to check you are using the correct syntax for your API request.\n",
      "2025-04-12 22:41:39,129 INFO Request ID is 420f56e7-d2a8-44c6-9793-da51ba34996e\n",
      "2025-04-12 22:41:39,383 INFO status has been updated to accepted\n",
      "2025-04-12 22:41:53,707 INFO status has been updated to running\n",
      "2025-04-13 09:37:35,564 INFO status has been updated to successful\n",
      "2025-04-13 09:37:37,239 INFO [2024-09-26T00:00:00] Watch our [Forum](https://forum.ecmwf.int/) for Announcements, news and other discussed topics.\n",
      "2025-04-13 09:37:37,240 WARNING [2024-06-16T00:00:00] CDS API syntax is changed and some keys or parameter names may have also changed. To avoid requests failing, please use the \"Show API request code\" tool on the dataset Download Form to check you are using the correct syntax for your API request.\n",
      "2025-04-13 09:37:39,159 INFO Request ID is 56331652-3f30-4ddb-aa66-84218c88333d\n",
      "2025-04-13 09:37:39,446 INFO status has been updated to accepted\n",
      "2025-04-13 09:37:53,498 INFO status has been updated to running\n",
      "2025-04-13 10:55:11,904 INFO status has been updated to successful\n",
      "                                                                                          \r"
     ]
    }
   ],
   "source": [
    "# -*- coding: utf-8 -*-\n",
    "\"\"\"\n",
    "Created on Wed Sep 7 13:15:30 2022\n",
    "\n",
    "@author: HOUJ2, WITD5\n",
    "\"\"\"\n",
    "\n",
    "#%% Import modules\n",
    "\n",
    "# Import builtin modules\n",
    "\n",
    "\n",
    "# Import required modules\n",
    "\n",
    "\n",
    "\n",
    "# Import custum modules\n",
    "import setup_wflow as swf\n",
    "import cdsapi\n",
    "import netrc\n",
    "import netCDF4\n",
    "\n",
    "year_list = ['2020', '2021']\n",
    "nc_path = r'C:\\Users\\jmsch\\OneDrive\\Documenten\\Studie\\Civiele Techniek\\Environmental Engineering\\Year 2\\Afstuderen\\NBS Nakuru Kenia\\5. Python\\2025-04-04 ERA5'\n",
    "ROI_shape = r'C:\\Users\\jmsch\\OneDrive\\Documenten\\Studie\\Civiele Techniek\\Environmental Engineering\\Year 2\\Afstuderen\\NBS Nakuru Kenia\\2. QGIS + Wflow\\Wflow - WitteveenBos\\wflow_JMS\\HydroMT\\ROI\\ROI_v2.gpkg'\n",
    "for year in year_list:\n",
    "    nc_file = f'{nc_path}\\ERA5_Nakuru_{year}_2.nc'\n",
    "    swf.download_era5(nc_file, ROI_shape, year)"
   ]
  },
  {
   "cell_type": "code",
   "execution_count": null,
   "metadata": {},
   "outputs": [],
   "source": []
  },
  {
   "cell_type": "code",
   "execution_count": null,
   "metadata": {},
   "outputs": [],
   "source": []
  }
 ],
 "metadata": {
  "kernelspec": {
   "display_name": "hydromt-wflow",
   "language": "python",
   "name": "python3"
  },
  "language_info": {
   "codemirror_mode": {
    "name": "ipython",
    "version": 3
   },
   "file_extension": ".py",
   "mimetype": "text/x-python",
   "name": "python",
   "nbconvert_exporter": "python",
   "pygments_lexer": "ipython3",
   "version": "3.11.11"
  }
 },
 "nbformat": 4,
 "nbformat_minor": 2
}
