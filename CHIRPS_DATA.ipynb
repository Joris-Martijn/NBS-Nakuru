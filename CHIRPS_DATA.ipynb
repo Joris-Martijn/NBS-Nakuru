{
 "cells": [
  {
   "cell_type": "code",
   "execution_count": 1,
   "metadata": {},
   "outputs": [],
   "source": [
    "import numpy as np \n",
    "import xarray as xr\n",
    "import matplotlib.pyplot as plt"
   ]
  },
  {
   "cell_type": "code",
   "execution_count": 2,
   "metadata": {},
   "outputs": [
    {
     "name": "stdout",
     "output_type": "stream",
     "text": [
      "<xarray.Dataset> Size: 560MB\n",
      "Dimensions:    (time: 243, longitude: 1440, latitude: 400)\n",
      "Coordinates:\n",
      "  * time       (time) datetime64[ns] 2kB 2021-01-01 2021-01-02 ... 2021-08-31\n",
      "  * longitude  (longitude) float32 6kB -179.9 -179.6 -179.4 ... 179.6 179.9\n",
      "  * latitude   (latitude) float32 2kB -49.88 -49.62 -49.38 ... 49.38 49.62 49.88\n",
      "Data variables:\n",
      "    pr         (time, latitude, longitude) float32 560MB ...\n",
      "Attributes: (12/28)\n",
      "    CDI:                        Climate Data Interface version 1.9.10 (https:...\n",
      "    institution:                Climate Hazards Group.  University of Califor...\n",
      "    Conventions:                CF-1.6\n",
      "    title:                      CHIRPS Version 2.0\n",
      "    version:                    Version 2.0\n",
      "    date_created:               2015-10-07\n",
      "    ...                         ...\n",
      "    geospatial_lon_resolution:  0.25\n",
      "    climexp_url:                https://climexp.knmi.nl/select.cgi?chirps_20_25\n",
      "    history:                    Fri Nov 12 12:35:46 2021: cdo -O -selyear,202...\n",
      "    time_coverage_start:        1981-01-01 00:00:00\n",
      "    time_coverage_end:          2021-08-31 00:00:00\n",
      "    CDO:                        Climate Data Operators version 1.9.10 (https:...\n"
     ]
    }
   ],
   "source": [
    "\n",
    "\n",
    "# Define the file path (use 'r' before the string to handle backslashes)\n",
    "netcdf_path = r\"C:\\Users\\jmsch\\OneDrive\\Documenten\\Studie\\Civiele Techniek\\Environmental Engineering\\Year 2\\Afstuderen\\NBS Nakuru Kenia\\2. QGIS + Wflow\\DATA\\JMS\\CHIRPS_total_precipitation_day_0.25x0.25_africa_2021_v2.0.nc\"\n",
    "\n",
    "# Load NetCDF file\n",
    "ds = xr.open_dataset(netcdf_path)\n",
    "\n",
    "# Print dataset information\n",
    "print(ds)\n",
    "\n"
   ]
  },
  {
   "cell_type": "code",
   "execution_count": 3,
   "metadata": {},
   "outputs": [
    {
     "name": "stdout",
     "output_type": "stream",
     "text": [
      "Frozen({'time': <xarray.IndexVariable 'time' (time: 243)> Size: 2kB\n",
      "array(['2021-01-01T00:00:00.000000000', '2021-01-02T00:00:00.000000000',\n",
      "       '2021-01-03T00:00:00.000000000', ..., '2021-08-29T00:00:00.000000000',\n",
      "       '2021-08-30T00:00:00.000000000', '2021-08-31T00:00:00.000000000'],\n",
      "      shape=(243,), dtype='datetime64[ns]')\n",
      "Attributes:\n",
      "    standard_name:  time\n",
      "    axis:           T, 'longitude': <xarray.IndexVariable 'longitude' (longitude: 1440)> Size: 6kB\n",
      "array([-179.875, -179.625, -179.375, ...,  179.375,  179.625,  179.875],\n",
      "      shape=(1440,), dtype=float32)\n",
      "Attributes:\n",
      "    standard_name:  longitude\n",
      "    long_name:      longitude\n",
      "    units:          degrees_east\n",
      "    axis:           X, 'latitude': <xarray.IndexVariable 'latitude' (latitude: 400)> Size: 2kB\n",
      "array([-49.875, -49.625, -49.375, ...,  49.375,  49.625,  49.875],\n",
      "      shape=(400,), dtype=float32)\n",
      "Attributes:\n",
      "    standard_name:  latitude\n",
      "    long_name:      latitude\n",
      "    units:          degrees_north\n",
      "    axis:           Y, 'pr': <xarray.Variable (time: 243, latitude: 400, longitude: 1440)> Size: 560MB\n",
      "[139968000 values with dtype=float32]\n",
      "Attributes:\n",
      "    standard_name:       lwe_precipitation_rate\n",
      "    long_name:           total daily precipitation\n",
      "    units:               mm/day\n",
      "    time_step:           day\n",
      "    geostatial_lat_min:  -50.0\n",
      "    geostatial_lat_max:  50.0\n",
      "    geostatial_lon_min:  -180.0\n",
      "    geostatial_lon_max:  180.0})\n"
     ]
    }
   ],
   "source": [
    "print(ds.variables)"
   ]
  },
  {
   "cell_type": "code",
   "execution_count": null,
   "metadata": {},
   "outputs": [],
   "source": [
    "shapefile_path = r\"C:\\Users\\jmsch\\OneDrive\\Documenten\\Studie\\Civiele Techniek\\Environmental Engineering\\Year 2\\Afstuderen\\NBS Nakuru Kenia\\2. QGIS + Wflow\\RESULTS\\Lake Nakuru catchment.shp\"\n",
    "\n",
    "\n",
    "# Replace 'temperature' with the actual variable name in your dataset\n",
    "var_name = \"pr\"\n",
    "data = ds[var_name]\n",
    "\n",
    "data = data.rio.write_crs(\"epsg:4326\")\n",
    "# Reproject to UTM 37S (EPSG:32737)\n",
    "data_utm = data.rio.reproject(\"EPSG:32737\")\n",
    "\n",
    "\n",
    "# # Plot the first time step (if time-dependent)\n",
    "# plt.figure(figsize=(12, 6))\n",
    "# data.isel(time=0).plot(cmap=\"coolwarm\")\n",
    "# plt.title(f\"{var_name} at first time step\")\n",
    "# plt.show()"
   ]
  },
  {
   "cell_type": "code",
   "execution_count": null,
   "metadata": {},
   "outputs": [],
   "source": [
    "pip install geopandas rioxarray"
   ]
  },
  {
   "cell_type": "code",
   "execution_count": null,
   "metadata": {},
   "outputs": [],
   "source": [
    "import rioxarray  # Enables CRS transformations\n",
    "import geopandas as gpd"
   ]
  },
  {
   "cell_type": "code",
   "execution_count": null,
   "metadata": {},
   "outputs": [],
   "source": [
    "# Load shapefile\n",
    "shapefile = gpd.read_file(shapefile_path)\n",
    "\n",
    "# Ensure the shapefile is in EPSG 32737\n",
    "shapefile = shapefile.to_crs(\"EPSG:32737\")\n"
   ]
  },
  {
   "cell_type": "code",
   "execution_count": null,
   "metadata": {},
   "outputs": [],
   "source": [
    "# Clip the NetCDF raster using the shapefile\n",
    "data_clipped = data_utm.rio.clip(shapefile.geometry, shapefile.crs, drop=True)\n",
    "print(data_clipped.dims)\n",
    "\n",
    "import matplotlib.pyplot as plt\n",
    "\n",
    "# Plot the first time step\n",
    "plt.figure(figsize=(10, 6))\n",
    "data_clipped.isel(time=0).plot.imshow(cmap=\"coolwarm\")  # Use imshow for raster data\n",
    "plt.title(f\"Clipped {var_name} in EPSG:32737\")\n",
    "plt.show()\n",
    "\n"
   ]
  },
  {
   "cell_type": "code",
   "execution_count": null,
   "metadata": {},
   "outputs": [],
   "source": []
  }
 ],
 "metadata": {
  "kernelspec": {
   "display_name": "Python 3",
   "language": "python",
   "name": "python3"
  },
  "language_info": {
   "codemirror_mode": {
    "name": "ipython",
    "version": 3
   },
   "file_extension": ".py",
   "mimetype": "text/x-python",
   "name": "python",
   "nbconvert_exporter": "python",
   "pygments_lexer": "ipython3",
   "version": "3.12.7"
  }
 },
 "nbformat": 4,
 "nbformat_minor": 4
}
