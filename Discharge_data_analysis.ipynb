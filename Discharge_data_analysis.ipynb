{
 "cells": [
  {
   "cell_type": "code",
   "execution_count": 5,
   "id": "010c30b8",
   "metadata": {},
   "outputs": [],
   "source": [
    "import pandas as pd\n",
    "\n"
   ]
  },
  {
   "cell_type": "code",
   "execution_count": 6,
   "id": "66aba5a3",
   "metadata": {},
   "outputs": [],
   "source": [
    "path = r\"C:\\Users\\jmsch\\OneDrive\\Documenten\\Studie\\Civiele Techniek\\Environmental Engineering\\Year 2\\Afstuderen\\NBS Nakuru Kenia\\2. QGIS + Wflow\\DATA\\2025-03-05 WRA data\\2FC19 NJORO DISCHARGES.xlsx\""
   ]
  },
  {
   "cell_type": "code",
   "execution_count": 11,
   "id": "31d9f0a7",
   "metadata": {},
   "outputs": [],
   "source": [
    "# Load your dataset\n",
    "df = pd.read_excel(path, skiprows=1)\n",
    "\n",
    "# Convert datetime column (assume it's the first column)\n",
    "df.columns = ['datetime', 'discharge']\n",
    "df['datetime'] = pd.to_datetime(df['datetime'])\n",
    "\n",
    "# Replace 1e-30 values with 0\n",
    "df['discharge'] = df['discharge'].replace(-1e-30, 0)\n",
    "\n",
    "# Define a custom aggregation function\n",
    "def custom_daily_agg(x):\n",
    "    if (x >= 0.01).all():\n",
    "        return x.mean()\n",
    "    else:\n",
    "        return x.max()\n",
    "\n",
    "# Group by date only (drop time part) and apply the function\n",
    "df['date'] = df['datetime'].dt.date\n",
    "daily_discharge = df.groupby('date')['discharge'].apply(custom_daily_agg).reset_index()\n",
    "\n",
    "# Optionally, convert 'date' back to datetime\n",
    "daily_discharge['date'] = pd.to_datetime(daily_discharge['date'])\n",
    "\n",
    "# Rename column if desired\n",
    "daily_discharge.columns = ['date', 'daily_discharge']"
   ]
  },
  {
   "cell_type": "code",
   "execution_count": 12,
   "id": "efd75ec4",
   "metadata": {},
   "outputs": [
    {
     "data": {
      "text/html": [
       "<div>\n",
       "<style scoped>\n",
       "    .dataframe tbody tr th:only-of-type {\n",
       "        vertical-align: middle;\n",
       "    }\n",
       "\n",
       "    .dataframe tbody tr th {\n",
       "        vertical-align: top;\n",
       "    }\n",
       "\n",
       "    .dataframe thead th {\n",
       "        text-align: right;\n",
       "    }\n",
       "</style>\n",
       "<table border=\"1\" class=\"dataframe\">\n",
       "  <thead>\n",
       "    <tr style=\"text-align: right;\">\n",
       "      <th></th>\n",
       "      <th>date</th>\n",
       "      <th>daily_discharge</th>\n",
       "    </tr>\n",
       "  </thead>\n",
       "  <tbody>\n",
       "    <tr>\n",
       "      <th>0</th>\n",
       "      <td>2005-01-01</td>\n",
       "      <td>0.000000</td>\n",
       "    </tr>\n",
       "    <tr>\n",
       "      <th>1</th>\n",
       "      <td>2005-01-02</td>\n",
       "      <td>0.000000</td>\n",
       "    </tr>\n",
       "    <tr>\n",
       "      <th>2</th>\n",
       "      <td>2005-01-03</td>\n",
       "      <td>0.000000</td>\n",
       "    </tr>\n",
       "    <tr>\n",
       "      <th>3</th>\n",
       "      <td>2005-01-04</td>\n",
       "      <td>0.000000</td>\n",
       "    </tr>\n",
       "    <tr>\n",
       "      <th>4</th>\n",
       "      <td>2005-01-05</td>\n",
       "      <td>0.000000</td>\n",
       "    </tr>\n",
       "    <tr>\n",
       "      <th>...</th>\n",
       "      <td>...</td>\n",
       "      <td>...</td>\n",
       "    </tr>\n",
       "    <tr>\n",
       "      <th>5381</th>\n",
       "      <td>2020-06-26</td>\n",
       "      <td>5.140952</td>\n",
       "    </tr>\n",
       "    <tr>\n",
       "      <th>5382</th>\n",
       "      <td>2020-06-27</td>\n",
       "      <td>5.140952</td>\n",
       "    </tr>\n",
       "    <tr>\n",
       "      <th>5383</th>\n",
       "      <td>2020-06-28</td>\n",
       "      <td>4.883957</td>\n",
       "    </tr>\n",
       "    <tr>\n",
       "      <th>5384</th>\n",
       "      <td>2020-06-29</td>\n",
       "      <td>4.637344</td>\n",
       "    </tr>\n",
       "    <tr>\n",
       "      <th>5385</th>\n",
       "      <td>2020-06-30</td>\n",
       "      <td>4.400796</td>\n",
       "    </tr>\n",
       "  </tbody>\n",
       "</table>\n",
       "<p>5386 rows × 2 columns</p>\n",
       "</div>"
      ],
      "text/plain": [
       "           date  daily_discharge\n",
       "0    2005-01-01         0.000000\n",
       "1    2005-01-02         0.000000\n",
       "2    2005-01-03         0.000000\n",
       "3    2005-01-04         0.000000\n",
       "4    2005-01-05         0.000000\n",
       "...         ...              ...\n",
       "5381 2020-06-26         5.140952\n",
       "5382 2020-06-27         5.140952\n",
       "5383 2020-06-28         4.883957\n",
       "5384 2020-06-29         4.637344\n",
       "5385 2020-06-30         4.400796\n",
       "\n",
       "[5386 rows x 2 columns]"
      ]
     },
     "metadata": {},
     "output_type": "display_data"
    }
   ],
   "source": [
    "display(daily_discharge)"
   ]
  },
  {
   "cell_type": "code",
   "execution_count": 13,
   "id": "5cc9e3f3",
   "metadata": {},
   "outputs": [
    {
     "data": {
      "text/plain": [
       "[<matplotlib.lines.Line2D at 0x2337d0abec0>]"
      ]
     },
     "execution_count": 13,
     "metadata": {},
     "output_type": "execute_result"
    },
    {
     "data": {
      "image/png": "[encoded data removed]",
      "text/plain": [
       "<Figure size 640x480 with 1 Axes>"
      ]
     },
     "metadata": {},
     "output_type": "display_data"
    }
   ],
   "source": [
    "import matplotlib.pyplot as plt\n",
    "\n",
    "plt.plot(daily_discharge['date'], daily_discharge['daily_discharge'])"
   ]
  },
  {
   "cell_type": "code",
   "execution_count": null,
   "id": "cd776b81",
   "metadata": {},
   "outputs": [],
   "source": [
    "# Save to Excel\n",
    "daily_discharge.to_excel(\"daily_discharge.xlsx\", index=False)"
   ]
  },
  {
   "cell_type": "code",
   "execution_count": null,
   "id": "677b5bb8",
   "metadata": {},
   "outputs": [],
   "source": []
  }
 ],
 "metadata": {
  "kernelspec": {
   "display_name": "base",
   "language": "python",
   "name": "python3"
  },
  "language_info": {
   "codemirror_mode": {
    "name": "ipython",
    "version": 3
   },
   "file_extension": ".py",
   "mimetype": "text/x-python",
   "name": "python",
   "nbconvert_exporter": "python",
   "pygments_lexer": "ipython3",
   "version": "3.12.7"
  }
 },
 "nbformat": 4,
 "nbformat_minor": 5
}
