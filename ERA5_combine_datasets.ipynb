{
 "cells": [
  {
   "cell_type": "code",
   "execution_count": 2,
   "id": "0ed3b00a",
   "metadata": {},
   "outputs": [
    {
     "name": "stdout",
     "output_type": "stream",
     "text": [
      "['2007', '2008', '2009', '2010', '2011', '2012', '2013', '2014', '2015', '2016', '2017', '2018', '2019', '2020', '2021']\n"
     ]
    }
   ],
   "source": [
    "import xarray as xr\n",
    "\n",
    "# List of years (from 2007 to 2021)\n",
    "years = [str(year) for year in range(2007, 2022)]  # From 2007 to 2021\n",
    "print(years)\n",
    "\n",
    "# Initialize an empty list to store the merged datasets\n",
    "combined_list = []\n",
    "\n",
    "# Loop through each year and year_2 pair\n",
    "for year in years:\n",
    "    # Step 1: Load the instant datasets for the year and year_2\n",
    "    instant_ds_1 = xr.open_dataset(rf\"C:\\Users\\jmsch\\OneDrive\\Documenten\\Studie\\Civiele Techniek\\Environmental Engineering\\Year 2\\Afstuderen\\NBS Nakuru Kenia\\5. Python\\2025-04-04 ERA5\\zipped\\unzipped_all\\ERA5_{year}_data_stream-oper_stepType-instant.nc\")  # Instant dataset for the year (e.g., 2007)\n",
    "    instant_ds_2 = xr.open_dataset(rf'C:\\Users\\jmsch\\OneDrive\\Documenten\\Studie\\Civiele Techniek\\Environmental Engineering\\Year 2\\Afstuderen\\NBS Nakuru Kenia\\5. Python\\2025-04-04 ERA5\\zipped\\unzipped_all\\ERA5_{year}_2_data_stream-oper_stepType-instant.nc')  # Instant dataset for the second part of the year (e.g., 2007_2)\n",
    "\n",
    "    # Step 2: Load the accum datasets for the year and year_2\n",
    "    accum_ds_1 = xr.open_dataset(rf'C:\\Users\\jmsch\\OneDrive\\Documenten\\Studie\\Civiele Techniek\\Environmental Engineering\\Year 2\\Afstuderen\\NBS Nakuru Kenia\\5. Python\\2025-04-04 ERA5\\zipped\\unzipped_all\\ERA5_{year}_data_stream-oper_stepType-accum.nc')  # Accum dataset for the year (e.g., 2007)\n",
    "    accum_ds_2 = xr.open_dataset(rf'C:\\Users\\jmsch\\OneDrive\\Documenten\\Studie\\Civiele Techniek\\Environmental Engineering\\Year 2\\Afstuderen\\NBS Nakuru Kenia\\5. Python\\2025-04-04 ERA5\\zipped\\unzipped_all\\ERA5_{year}_2_data_stream-oper_stepType-accum.nc')  # Accum dataset for the second part of the year (e.g., 2007_2)\n",
    "\n",
    "    # Step 3: Merge the instant datasets (1 and 2 for the year)\n",
    "    merged_instant_ds = xr.concat([instant_ds_1, instant_ds_2], dim='valid_time')\n",
    "\n",
    "    # Step 4: Merge the accum datasets (1 and 2 for the year)\n",
    "    merged_accum_ds = xr.concat([accum_ds_1, accum_ds_2], dim='valid_time')\n",
    "\n",
    "    # Step 5: Merge the instant data with the accum data for this year\n",
    "    final_merged_ds = xr.merge([merged_instant_ds, merged_accum_ds])\n",
    "\n",
    "    # Step 6: Append the merged dataset to the list\n",
    "    combined_list.append(final_merged_ds)\n",
    "\n",
    "# Step 7: Combine all the yearly datasets into one\n",
    "final_ds = xr.concat(combined_list, dim='valid_time')\n",
    "\n",
    "# Step 8: Save the final merged dataset to a new NetCDF file\n",
    "final_ds.to_netcdf(r'C:\\Users\\jmsch\\OneDrive\\Documenten\\Studie\\Civiele Techniek\\Environmental Engineering\\Year 2\\Afstuderen\\NBS Nakuru Kenia\\5. Python\\2025-04-04 ERA5\\zipped\\unzipped_all\\combined_dataset_new.nc')\n",
    "\n"
   ]
  },
  {
   "cell_type": "code",
   "execution_count": 10,
   "id": "fb772e4a",
   "metadata": {},
   "outputs": [
    {
     "name": "stdout",
     "output_type": "stream",
     "text": [
      "<xarray.Dataset> Size: 632MB\n",
      "Dimensions:     (valid_time: 131496, latitude: 3, longitude: 2, time: 30)\n",
      "Coordinates:\n",
      "  * valid_time  (valid_time) datetime64[ns] 1MB 2007-01-01 ... 2021-12-31T23:...\n",
      "  * latitude    (latitude) float64 24B -0.216 -0.466 -0.717\n",
      "  * longitude   (longitude) float64 16B 35.84 36.09\n",
      "    number      int64 8B ...\n",
      "    expver      (time, valid_time) <U4 63MB ...\n",
      "Dimensions without coordinates: time\n",
      "Data variables:\n",
      "    t2m         (time, valid_time, latitude, longitude) float32 95MB ...\n",
      "    msl         (time, valid_time, latitude, longitude) float32 95MB ...\n",
      "    tp          (time, valid_time, latitude, longitude) float32 95MB ...\n",
      "    pev         (time, valid_time, latitude, longitude) float32 95MB ...\n",
      "    ssrd        (time, valid_time, latitude, longitude) float32 95MB ...\n",
      "    tisr        (time, valid_time, latitude, longitude) float32 95MB ...\n",
      "Attributes:\n",
      "    GRIB_centre:             ecmf\n",
      "    GRIB_centreDescription:  European Centre for Medium-Range Weather Forecasts\n",
      "    GRIB_subCentre:          0\n",
      "    Conventions:             CF-1.7\n",
      "    institution:             European Centre for Medium-Range Weather Forecasts\n",
      "    history:                 2025-04-10T08:18 GRIB to CDM+CF via cfgrib-0.9.1...\n"
     ]
    }
   ],
   "source": [
    "combined_dataset = xr.open_dataset(r'C:\\Users\\jmsch\\OneDrive\\Documenten\\Studie\\Civiele Techniek\\Environmental Engineering\\Year 2\\Afstuderen\\NBS Nakuru Kenia\\5. Python\\2025-04-04 ERA5\\zipped\\unzipped_all\\combined_dataset.nc')\n",
    "print(combined_dataset)"
   ]
  },
  {
   "cell_type": "code",
   "execution_count": null,
   "id": "9a10f85b",
   "metadata": {},
   "outputs": [],
   "source": []
  },
  {
   "cell_type": "code",
   "execution_count": null,
   "id": "9735edd9",
   "metadata": {},
   "outputs": [],
   "source": []
  }
 ],
 "metadata": {
  "kernelspec": {
   "display_name": "base",
   "language": "python",
   "name": "python3"
  },
  "language_info": {
   "codemirror_mode": {
    "name": "ipython",
    "version": 3
   },
   "file_extension": ".py",
   "mimetype": "text/x-python",
   "name": "python",
   "nbconvert_exporter": "python",
   "pygments_lexer": "ipython3",
   "version": "3.12.7"
  }
 },
 "nbformat": 4,
 "nbformat_minor": 5
}
