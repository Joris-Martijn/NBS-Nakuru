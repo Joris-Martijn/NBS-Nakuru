{
 "cells": [
  {
   "cell_type": "code",
   "execution_count": null,
   "metadata": {},
   "outputs": [],
   "source": [
    "from netCDF4 import Dataset\n",
    "import numpy as np\n",
    "import xarray as xr\n",
    "import matplotlib.pyplot as plt"
   ]
  },
  {
   "cell_type": "code",
   "execution_count": 5,
   "metadata": {},
   "outputs": [
    {
     "name": "stdout",
     "output_type": "stream",
     "text": [
      "✅ NetCDF updated and saved to:\n",
      "C:\\Users\\jmsch\\OneDrive\\Documenten\\Studie\\Civiele Techniek\\Environmental Engineering\\Year 2\\Afstuderen\\NBS Nakuru Kenia\\2. QGIS + Wflow\\Wflow - WitteveenBos\\wflow_JMS\\HydroMT\\wflow_Nakuru_res0.002dg_current_state\\staticmaps1.nc\n"
     ]
    }
   ],
   "source": [
    "from netCDF4 import Dataset\n",
    "import numpy as np\n",
    "\n",
    "# File paths\n",
    "file_path = r\"C:\\Users\\jmsch\\OneDrive\\Documenten\\Studie\\Civiele Techniek\\Environmental Engineering\\Year 2\\Afstuderen\\NBS Nakuru Kenia\\2. QGIS + Wflow\\Wflow - WitteveenBos\\wflow_JMS\\HydroMT\\wflow_Nakuru_res0.002dg_current_state\\staticmaps.nc\"\n",
    "output_file_path = r\"C:\\Users\\jmsch\\OneDrive\\Documenten\\Studie\\Civiele Techniek\\Environmental Engineering\\Year 2\\Afstuderen\\NBS Nakuru Kenia\\2. QGIS + Wflow\\Wflow - WitteveenBos\\wflow_JMS\\HydroMT\\wflow_Nakuru_res0.002dg_current_state\\staticmaps1.nc\"\n",
    "\n",
    "# Open original NetCDF\n",
    "ds = Dataset(file_path, mode='r')\n",
    "ds_out = Dataset(output_file_path, mode='w', format='NETCDF4') \n",
    "\n",
    "# Copy dimensions\n",
    "for dim_name, dim in ds.dimensions.items():\n",
    "    ds_out.createDimension(dim_name, len(dim) if not dim.isunlimited() else None)\n",
    "\n",
    "# Loop through variables\n",
    "for var_name, variable in ds.variables.items():\n",
    "    data = variable[:]\n",
    "    \n",
    "    is_lake_var = 'lake' in var_name.lower()\n",
    "    is_lakelocs = var_name == \"wflow_lakelocs\"\n",
    "    is_lakeareas = var_name == \"wflow_lakeareas\"\n",
    "    \n",
    "    # Get or assign fill value\n",
    "    fill_value = variable.getncattr('_FillValue') if '_FillValue' in variable.ncattrs() else -9999\n",
    "    \n",
    "    # Create output variable\n",
    "    out_var = ds_out.createVariable(var_name, variable.datatype, variable.dimensions, fill_value=fill_value)\n",
    "    \n",
    "    # Copy attributes except _FillValue (handled separately)\n",
    "    for attr in variable.ncattrs():\n",
    "        if attr != '_FillValue':\n",
    "            out_var.setncattr(attr, variable.getncattr(attr))\n",
    "\n",
    "    # Special logic for wflow_lakelocs\n",
    "    if is_lakelocs:\n",
    "        # Keep only cell with value 1, others -> fill_value\n",
    "        cleaned = np.full_like(data, fill_value)\n",
    "        cleaned[data == 1] = 1\n",
    "        \n",
    "        # Shift left and down\n",
    "        shifted = np.full_like(data, fill_value)\n",
    "        if data.ndim == 2:\n",
    "            shifted[1:, :] = cleaned[:-1, :]\n",
    "        out_var[:] = shifted\n",
    "\n",
    "    # Shift all lake-related vars except wflow_lakeareas and wflow_lakelocs\n",
    "    elif is_lake_var and not is_lakeareas:\n",
    "        if data.ndim == 2:\n",
    "            shifted = np.full_like(data, fill_value)\n",
    "            shifted[1:, :] = data[:-1, :]\n",
    "            out_var[:] = shifted\n",
    "        else:\n",
    "            out_var[:] = data\n",
    "\n",
    "    # Copy lake areas and non-lake variables as-is\n",
    "    # else:\n",
    "    #     out_var[:] = data\n",
    "\n",
    "    else:\n",
    "#         # Copy data as is for variables that don't match the criteria\n",
    "        out_var[:] = variable[:]\n",
    "\n",
    "# Close files\n",
    "ds.close()\n",
    "ds_out.close()\n",
    "\n",
    "print(f\"✅ NetCDF updated and saved to:\\n{output_file_path}\")\n"
   ]
  },
  {
   "cell_type": "code",
   "execution_count": null,
   "metadata": {},
   "outputs": [],
   "source": []
  },
  {
   "cell_type": "code",
   "execution_count": 3,
   "metadata": {},
   "outputs": [],
   "source": [
    "#file_path = r\"C:\\Users\\jmsch\\OneDrive\\Documenten\\Studie\\Civiele Techniek\\Environmental Engineering\\Year 2\\Afstuderen\\NBS Nakuru Kenia\\2. QGIS + Wflow\\Wflow - WitteveenBos\\wflow_JMS\\HydroMT\\wflow_Nakuru_res0.002dg_gauges_lake\\staticmaps.nc\"\n",
    "\n",
    "# Open original NetCDF\n",
    "##dataset = Dataset(file_path, mode='r')\n",
    "#display(dataset)\n"
   ]
  },
  {
   "cell_type": "code",
   "execution_count": null,
   "metadata": {},
   "outputs": [
    {
     "name": "stdout",
     "output_type": "stream",
     "text": [
      "Converted NetCDF file saved as C:\\Users\\jmsch\\OneDrive\\Documenten\\Studie\\Civiele Techniek\\Environmental Engineering\\Year 2\\Afstuderen\\NBS Nakuru Kenia\\2. QGIS + Wflow\\Wflow - WitteveenBos\\wflow_JMS\\HydroMT\\wflow_Nakuru_res0.002dg_current_state\\staticmaps_lai.nc\n"
     ]
    }
   ],
   "source": [
    "# from netCDF4 import Dataset\n",
    "# import numpy as np\n",
    "\n",
    "# # File paths\n",
    "# input_file = r\"C:\\Users\\jmsch\\OneDrive\\Documenten\\Studie\\Civiele Techniek\\Environmental Engineering\\Year 2\\Afstuderen\\NBS Nakuru Kenia\\2. QGIS + Wflow\\Wflow - WitteveenBos\\wflow_JMS\\HydroMT\\wflow_Nakuru_res0.002dg_current_state\\staticmaps.nc\"  # Path to the original NetCDF file\n",
    "# output_file = r\"C:\\Users\\jmsch\\OneDrive\\Documenten\\Studie\\Civiele Techniek\\Environmental Engineering\\Year 2\\Afstuderen\\NBS Nakuru Kenia\\2. QGIS + Wflow\\Wflow - WitteveenBos\\wflow_JMS\\HydroMT\\wflow_Nakuru_res0.002dg_current_state\\staticmaps_lai.nc\"  # Path to the output NetCDF file\n",
    "\n",
    "# # Open the original NetCDF file\n",
    "# ds_in = Dataset(input_file, 'r')\n",
    "\n",
    "# # Create a new NetCDF file for output\n",
    "# ds_out = Dataset(output_file, 'w', format='NETCDF4')\n",
    "\n",
    "# # Copy dimensions from the original file\n",
    "# for dim_name, dim in ds_in.dimensions.items():\n",
    "#     ds_out.createDimension(dim_name, len(dim) if not dim.isunlimited() else None)\n",
    "\n",
    "# # Copy variables and change dtype for LAI variable\n",
    "# for var_name, variable in ds_in.variables.items():\n",
    "#     # Create the variable in the new NetCDF file with the same dimensions\n",
    "#     out_var = ds_out.createVariable(var_name, variable.datatype, variable.dimensions)\n",
    "#     out_var.setncatts({attr: variable.getncattr(attr) for attr in variable.ncattrs()})\n",
    "    \n",
    "#     # Check if the variable is 'LAI'\n",
    "#     if var_name == 'LAI':\n",
    "#         # Convert the data to integers (assuming 'LAI' is of float type)\n",
    "#         data = variable[:].astype(np.int32)  # Convert to integer (32-bit)\n",
    "#         out_var[:] = data  # Save the converted data to the new variable\n",
    "#     else:\n",
    "#         # If the variable is not 'LAI', copy it as-is\n",
    "#         out_var[:] = variable[:]\n",
    "\n",
    "# # Close the input and output files\n",
    "# ds_in.close()\n",
    "# ds_out.close()\n",
    "\n",
    "# print(f\"Converted NetCDF file saved as {output_file}\")\n"
   ]
  },
  {
   "cell_type": "code",
   "execution_count": null,
   "metadata": {},
   "outputs": [],
   "source": []
  }
 ],
 "metadata": {
  "kernelspec": {
   "display_name": "base",
   "language": "python",
   "name": "python3"
  },
  "language_info": {
   "codemirror_mode": {
    "name": "ipython",
    "version": 3
   },
   "file_extension": ".py",
   "mimetype": "text/x-python",
   "name": "python",
   "nbconvert_exporter": "python",
   "pygments_lexer": "ipython3",
   "version": "3.12.7"
  }
 },
 "nbformat": 4,
 "nbformat_minor": 2
}
