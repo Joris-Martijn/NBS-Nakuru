{
 "cells": [
  {
   "cell_type": "code",
   "execution_count": 1,
   "id": "65523351",
   "metadata": {},
   "outputs": [],
   "source": [
    "import numpy as np \n",
    "import xarray as xr\n",
    "import matplotlib.pyplot as plt"
   ]
  },
  {
   "cell_type": "code",
   "execution_count": 3,
   "id": "69d7f65d",
   "metadata": {},
   "outputs": [],
   "source": [
    "chirps_path = r\"C:\\Users\\jmsch\\2025-06-02_wflow_qgis\\wflow_tool_nbs\\Nakuru_res0.002dg_complete_chirps\\inmaps_chirps_Nakuru_86400_2007_2021.nc\"\n",
    "\n",
    "chirps = xr.open_dataset(chirps_path)"
   ]
  },
  {
   "cell_type": "code",
   "execution_count": 4,
   "id": "6088f6a4",
   "metadata": {},
   "outputs": [
    {
     "data": {
      "text/plain": [
       "<bound method DatasetAggregations.var of <xarray.Dataset> Size: 5GB\n",
       "Dimensions:      (time: 5479, longitude: 233, latitude: 321)\n",
       "Coordinates:\n",
       "  * time         (time) datetime64[ns] 44kB 2007-01-01 2007-01-02 ... 2021-12-31\n",
       "  * longitude    (longitude) float64 2kB 35.84 35.84 35.84 ... 36.22 36.22 36.22\n",
       "  * latitude     (latitude) float64 3kB -0.1821 -0.1838 ... -0.7138 -0.7154\n",
       "    spatial_ref  int32 4B ...\n",
       "Data variables:\n",
       "    precip       (time, latitude, longitude) float32 2GB ...\n",
       "    pet          (time, latitude, longitude) float32 2GB ...\n",
       "    temp         (time, latitude, longitude) float32 2GB ...\n",
       "Attributes:\n",
       "    standard_name:  precipitation\n",
       "    units:          mm\n",
       "    _FillValue:     nan\n",
       "    unit:           mm\n",
       "    precip_fn:      chirps_global>"
      ]
     },
     "metadata": {},
     "output_type": "display_data"
    }
   ],
   "source": [
    "display(chirps.var)"
   ]
  },
  {
   "cell_type": "code",
   "execution_count": null,
   "id": "63a5b6ed",
   "metadata": {},
   "outputs": [],
   "source": []
  }
 ],
 "metadata": {
  "kernelspec": {
   "display_name": "base",
   "language": "python",
   "name": "python3"
  },
  "language_info": {
   "codemirror_mode": {
    "name": "ipython",
    "version": 3
   },
   "file_extension": ".py",
   "mimetype": "text/x-python",
   "name": "python",
   "nbconvert_exporter": "python",
   "pygments_lexer": "ipython3",
   "version": "3.12.7"
  }
 },
 "nbformat": 4,
 "nbformat_minor": 5
}
